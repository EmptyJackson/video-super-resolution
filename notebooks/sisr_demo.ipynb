{
  "nbformat": 4,
  "nbformat_minor": 0,
  "metadata": {
    "colab": {
      "name": "sisr_demo.ipynb",
      "provenance": [],
      "collapsed_sections": [
        "olvfgMPL-6is"
      ],
      "authorship_tag": "ABX9TyPOyT+vES+f30vOhUZylKwz"
    },
    "kernelspec": {
      "name": "python3",
      "display_name": "Python 3"
    },
    "accelerator": "GPU"
  },
  "cells": [
    {
      "cell_type": "markdown",
      "metadata": {
        "id": "i068jUk5yJEw",
        "colab_type": "text"
      },
      "source": [
        "# Single image super-resolution demonstration"
      ]
    },
    {
      "cell_type": "markdown",
      "metadata": {
        "id": "GMc1gcWUHSvx",
        "colab_type": "text"
      },
      "source": [
        "Select GPU hardware acceleration (TPU not supported by TensorFlow 2) in Runtime > Change runtime type"
      ]
    },
    {
      "cell_type": "code",
      "metadata": {
        "id": "XF3Ptd9LVYfs",
        "colab_type": "code",
        "colab": {}
      },
      "source": [
        "%tensorflow_version 2.x\n",
        "\n",
        "from google.colab import drive\n",
        "drive.mount('/content/gdrive')"
      ],
      "execution_count": 0,
      "outputs": []
    },
    {
      "cell_type": "markdown",
      "metadata": {
        "id": "olvfgMPL-6is",
        "colab_type": "text"
      },
      "source": [
        "## Repository clone and dataset download (first time only)"
      ]
    },
    {
      "cell_type": "code",
      "metadata": {
        "id": "YuKEymQh_McG",
        "colab_type": "code",
        "colab": {}
      },
      "source": [
        "\"\"\"\n",
        "%mkdir gdrive/My Drive/Part_II_Dissertation\n",
        "%cd gdrive/My Drive/Part_II_Dissertation\n",
        "!git clone https://github.com/EmptyJackson/video-super-resolution\n",
        "\"\"\""
      ],
      "execution_count": 0,
      "outputs": []
    },
    {
      "cell_type": "code",
      "metadata": {
        "id": "8lKop7sdI1Er",
        "colab_type": "code",
        "colab": {}
      },
      "source": [
        "\"\"\"\n",
        "%cd video-super-resolution\n",
        "\"\"\""
      ],
      "execution_count": 0,
      "outputs": []
    },
    {
      "cell_type": "markdown",
      "metadata": {
        "id": "-X_SeJoGDiuM",
        "colab_type": "text"
      },
      "source": [
        "## Repository update (subsequent uses)"
      ]
    },
    {
      "cell_type": "code",
      "metadata": {
        "id": "KQ61WIl0Vu_f",
        "colab_type": "code",
        "colab": {}
      },
      "source": [
        "%cd gdrive/My Drive/Part_II_Dissertation/video-super-resolution"
      ],
      "execution_count": 0,
      "outputs": []
    },
    {
      "cell_type": "code",
      "metadata": {
        "id": "dnmjV5_mCeho",
        "colab_type": "code",
        "colab": {}
      },
      "source": [
        "!git pull"
      ],
      "execution_count": 0,
      "outputs": []
    },
    {
      "cell_type": "markdown",
      "metadata": {
        "id": "3Erx1yphX2DM",
        "colab_type": "text"
      },
      "source": [
        "## Demonstration"
      ]
    },
    {
      "cell_type": "code",
      "metadata": {
        "id": "_asbC_WIS3py",
        "colab_type": "code",
        "colab": {}
      },
      "source": [
        "#!python src/tools/crop_image.py data/div2k/DIV2K_valid_LR_bicubic/X2/0855x2.png lr_crop.png 240\n",
        "#!python src/tools/crop_image.py data/div2k/DIV2K_valid_HR/0855.png hr_orig.png 240 standard 2\n",
        "!python src/tools/crop_image.py data/div2k/DIV2K_train_LR_bicubic/X4/0791x4.png lr_crop.png 240\n",
        "!python src/tools/crop_image.py data/div2k/DIV2K_train_HR/0791.png hr_orig.png 240 standard 4\n",
        "#!python src/tools/crop_image.py data/div2k/DIV2K_train_LR_bicubic/X2/0049x2.png lr_crop.png 240\n",
        "#!python src/tools/crop_image.py data/div2k/DIV2K_train_HR/0049.png hr_orig.png 240 standard 2\n",
        "!python src/upscale_image.py lr_crop.png hr_pred.png network checkpoints/edsr_x4_240p/ 140\n",
        "!python src/upscale_image.py lr_crop.png hr_bicb.png bicubic 4\n",
        "\n",
        "\"\"\"\n",
        "!python src/tools/crop_image.py lr_crop.png lr_crop.png 240 square\n",
        "!python src/tools/crop_image.py hr_bicub.png hr_bicb.png 480 square\n",
        "!python src/tools/crop_image.py hr_pred.png hr_pred.png 480 square\n",
        "\"\"\""
      ],
      "execution_count": 0,
      "outputs": []
    },
    {
      "cell_type": "code",
      "metadata": {
        "id": "RF0OVkNd-fbb",
        "colab_type": "code",
        "colab": {}
      },
      "source": [
        "import matplotlib.pyplot as plt\n",
        "import numpy as np\n",
        "\n",
        "s = 4\n",
        "x = np.array([200, 300])\n",
        "y = np.array([50, 150])\n",
        "adj = True\n",
        "\n",
        "def crop(im, x, y):\n",
        "  return im[y[0]:y[1], x[0]:x[1], :]\n",
        "\n",
        "fig = plt.figure(figsize=(15,15))\n",
        "fig.add_subplot(2, 2, 1)\n",
        "im = plt.imread('lr_crop.png')\n",
        "if adj:\n",
        "  im = crop(im, x, y)\n",
        "plt.axis('off')\n",
        "plt.imshow(im)\n",
        "fig.add_subplot(2, 2, 2)\n",
        "im = plt.imread('hr_bicb.png')\n",
        "if adj:\n",
        "  im = crop(im, x*s, y*s)\n",
        "plt.axis('off')\n",
        "plt.imshow(im)\n",
        "fig.add_subplot(2, 2, 3)\n",
        "im = plt.imread('hr_orig.png')\n",
        "if adj:\n",
        "  im = crop(im, x*s, y*s)\n",
        "plt.axis('off')\n",
        "plt.imshow(im)\n",
        "fig.add_subplot(2, 2, 4)\n",
        "im = plt.imread('hr_pred.png')\n",
        "if adj:\n",
        "  im = crop(im, x*s, y*s)\n",
        "plt.axis('off')\n",
        "plt.imshow(im)\n",
        "#plt.subplots_adjust(wspace=0.05)\n",
        "plt.show()"
      ],
      "execution_count": 0,
      "outputs": []
    }
  ]
}