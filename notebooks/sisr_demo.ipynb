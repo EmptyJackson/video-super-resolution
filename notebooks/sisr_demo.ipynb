{
  "nbformat": 4,
  "nbformat_minor": 0,
  "metadata": {
    "colab": {
      "name": "sisr_demo.ipynb",
      "provenance": [],
      "authorship_tag": "ABX9TyOAP21xT+xdnou0/5LQob1f"
    },
    "kernelspec": {
      "name": "python3",
      "display_name": "Python 3"
    },
    "accelerator": "GPU"
  },
  "cells": [
    {
      "cell_type": "markdown",
      "metadata": {
        "id": "i068jUk5yJEw",
        "colab_type": "text"
      },
      "source": [
        "# Single image super-resolution demonstration"
      ]
    },
    {
      "cell_type": "markdown",
      "metadata": {
        "id": "GMc1gcWUHSvx",
        "colab_type": "text"
      },
      "source": [
        "Select GPU hardware acceleration (TPU not supported by TensorFlow 2) in Runtime > Change runtime type"
      ]
    },
    {
      "cell_type": "code",
      "metadata": {
        "id": "XF3Ptd9LVYfs",
        "colab_type": "code",
        "colab": {}
      },
      "source": [
        "%tensorflow_version 2.x\n",
        "\n",
        "from google.colab import drive\n",
        "drive.mount('/content/gdrive')"
      ],
      "execution_count": 0,
      "outputs": []
    },
    {
      "cell_type": "markdown",
      "metadata": {
        "id": "olvfgMPL-6is",
        "colab_type": "text"
      },
      "source": [
        "## Repository clone and dataset download (first time only)"
      ]
    },
    {
      "cell_type": "code",
      "metadata": {
        "id": "YuKEymQh_McG",
        "colab_type": "code",
        "colab": {}
      },
      "source": [
        "%mkdir gdrive/My Drive/Part_II_Dissertation\n",
        "%cd gdrive/My Drive/Part_II_Dissertation\n",
        "!git clone https://github.com/EmptyJackson/video-super-resolution"
      ],
      "execution_count": 0,
      "outputs": []
    },
    {
      "cell_type": "code",
      "metadata": {
        "id": "8lKop7sdI1Er",
        "colab_type": "code",
        "colab": {}
      },
      "source": [
        "%cd video-super-resolution"
      ],
      "execution_count": 0,
      "outputs": []
    },
    {
      "cell_type": "markdown",
      "metadata": {
        "id": "-X_SeJoGDiuM",
        "colab_type": "text"
      },
      "source": [
        "## Repository update (subsequent uses)"
      ]
    },
    {
      "cell_type": "code",
      "metadata": {
        "id": "KQ61WIl0Vu_f",
        "colab_type": "code",
        "colab": {}
      },
      "source": [
        "%cd gdrive/My Drive/Part_II_Dissertation/video-super-resolution"
      ],
      "execution_count": 0,
      "outputs": []
    },
    {
      "cell_type": "code",
      "metadata": {
        "id": "dnmjV5_mCeho",
        "colab_type": "code",
        "colab": {}
      },
      "source": [
        "!git pull"
      ],
      "execution_count": 0,
      "outputs": []
    },
    {
      "cell_type": "code",
      "metadata": {
        "id": "_asbC_WIS3py",
        "colab_type": "code",
        "colab": {}
      },
      "source": [
        "!python src/tools/crop_image.py data/div2k/DIV2K_train_HR/0002.png lr_crop.png 240\n",
        "!python src/upscale_image.py checkpoints/fsrcnn_x2_240p/ 55 lr_crop.png hr_crop.png"
      ],
      "execution_count": 0,
      "outputs": []
    },
    {
      "cell_type": "code",
      "metadata": {
        "id": "RchSWBUiTpKy",
        "colab_type": "code",
        "colab": {}
      },
      "source": [
        "import matplotlib.pyplot as plt\n",
        "\n",
        "fig = plt.figure(figsize=(25,20))\n",
        "fig.add_subplot(1, 2, 1)\n",
        "im = plt.imread('lr_crop.png')\n",
        "plt.axis('off')\n",
        "plt.imshow(im)\n",
        "fig.add_subplot(1, 2, 2)\n",
        "im = plt.imread('hr_crop.png')\n",
        "plt.axis('off')\n",
        "plt.imshow(im)\n",
        "plt.subplots_adjust(wspace=0.1)\n",
        "plt.show()"
      ],
      "execution_count": 0,
      "outputs": []
    }
  ]
}