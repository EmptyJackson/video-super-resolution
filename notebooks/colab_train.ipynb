{
  "nbformat": 4,
  "nbformat_minor": 0,
  "metadata": {
    "colab": {
      "name": "colab_train.ipynb",
      "provenance": [],
      "authorship_tag": "ABX9TyPWOJ8FBmJBOf5FMlKhDUHC"
    },
    "kernelspec": {
      "name": "python3",
      "display_name": "Python 3"
    },
    "accelerator": "GPU"
  },
  "cells": [
    {
      "cell_type": "markdown",
      "metadata": {
        "id": "vt0dDi_zC_LZ",
        "colab_type": "text"
      },
      "source": [
        "# Model training with Google Colab"
      ]
    },
    {
      "cell_type": "code",
      "metadata": {
        "id": "XF3Ptd9LVYfs",
        "colab_type": "code",
        "colab": {}
      },
      "source": [
        "%tensorflow_version 2.x\n",
        "\n",
        "from google.colab import drive\n",
        "drive.mount('/content/gdrive')"
      ],
      "execution_count": 0,
      "outputs": []
    },
    {
      "cell_type": "markdown",
      "metadata": {
        "id": "olvfgMPL-6is",
        "colab_type": "text"
      },
      "source": [
        "## Repository clone and dataset download (first time only)"
      ]
    },
    {
      "cell_type": "code",
      "metadata": {
        "id": "YuKEymQh_McG",
        "colab_type": "code",
        "colab": {}
      },
      "source": [
        "%mkdir gdrive/My Drive/Part_II_Dissertation\n",
        "%cd gdrive/My Drive/Part_II_Dissertation\n",
        "!git clone https://github.com/EmptyJackson/video-super-resolution"
      ],
      "execution_count": 0,
      "outputs": []
    },
    {
      "cell_type": "code",
      "metadata": {
        "id": "8lKop7sdI1Er",
        "colab_type": "code",
        "colab": {}
      },
      "source": [
        "%cd video-super-resolution\n",
        "!sh ./data/load_data.sh"
      ],
      "execution_count": 0,
      "outputs": []
    },
    {
      "cell_type": "markdown",
      "metadata": {
        "id": "-X_SeJoGDiuM",
        "colab_type": "text"
      },
      "source": [
        "## Repository update (subsequent uses)"
      ]
    },
    {
      "cell_type": "code",
      "metadata": {
        "id": "KQ61WIl0Vu_f",
        "colab_type": "code",
        "colab": {}
      },
      "source": [
        "%cd gdrive/My Drive/Part_II_Dissertation/video-super-resolution"
      ],
      "execution_count": 0,
      "outputs": []
    },
    {
      "cell_type": "code",
      "metadata": {
        "id": "dnmjV5_mCeho",
        "colab_type": "code",
        "colab": {}
      },
      "source": [
        "!git pull"
      ],
      "execution_count": 0,
      "outputs": []
    },
    {
      "cell_type": "markdown",
      "metadata": {
        "id": "aclCbUXR_iCc",
        "colab_type": "text"
      },
      "source": [
        "## Training"
      ]
    },
    {
      "cell_type": "code",
      "metadata": {
        "id": "2atWQeCFW4e-",
        "colab_type": "code",
        "colab": {}
      },
      "source": [
        "!python src/train.py --epochs 250 --ckpt_epochs 5"
      ],
      "execution_count": 0,
      "outputs": []
    }
  ]
}