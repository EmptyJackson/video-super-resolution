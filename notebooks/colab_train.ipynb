{
  "nbformat": 4,
  "nbformat_minor": 0,
  "metadata": {
    "colab": {
      "name": "colab_train.ipynb",
      "provenance": [],
      "authorship_tag": "ABX9TyN2gk/a/IextDhLXvm6aWXS"
    },
    "kernelspec": {
      "name": "python3",
      "display_name": "Python 3"
    },
    "accelerator": "GPU"
  },
  "cells": [
    {
      "cell_type": "code",
      "metadata": {
        "id": "XF3Ptd9LVYfs",
        "colab_type": "code",
        "outputId": "7e583a67-e392-492b-e346-4cae26fe0bf2",
        "colab": {
          "base_uri": "https://localhost:8080/",
          "height": 124
        }
      },
      "source": [
        "%tensorflow_version 2.x\n",
        "\n",
        "from google.colab import drive\n",
        "drive.mount('/content/gdrive')"
      ],
      "execution_count": 1,
      "outputs": [
        {
          "output_type": "stream",
          "text": [
            "Go to this URL in a browser: https://accounts.google.com/o/oauth2/auth?client_id=947318989803-6bn6qk8qdgf4n4g3pfee6491hc0brc4i.apps.googleusercontent.com&redirect_uri=urn%3aietf%3awg%3aoauth%3a2.0%3aoob&response_type=code&scope=email%20https%3a%2f%2fwww.googleapis.com%2fauth%2fdocs.test%20https%3a%2f%2fwww.googleapis.com%2fauth%2fdrive%20https%3a%2f%2fwww.googleapis.com%2fauth%2fdrive.photos.readonly%20https%3a%2f%2fwww.googleapis.com%2fauth%2fpeopleapi.readonly\n",
            "\n",
            "Enter your authorization code:\n",
            "··········\n",
            "Mounted at /content/gdrive\n"
          ],
          "name": "stdout"
        }
      ]
    },
    {
      "cell_type": "markdown",
      "metadata": {
        "id": "olvfgMPL-6is",
        "colab_type": "text"
      },
      "source": [
        "## Google drive (first time) setup"
      ]
    },
    {
      "cell_type": "code",
      "metadata": {
        "id": "YuKEymQh_McG",
        "colab_type": "code",
        "colab": {}
      },
      "source": [
        "%mkdir gdrive/My Drive/Part_II_Dissertation\n",
        "!git clone https://github.com/EmptyJackson/video-super-resolution"
      ],
      "execution_count": 0,
      "outputs": []
    },
    {
      "cell_type": "markdown",
      "metadata": {
        "id": "aclCbUXR_iCc",
        "colab_type": "text"
      },
      "source": [
        "## Training"
      ]
    },
    {
      "cell_type": "code",
      "metadata": {
        "id": "KQ61WIl0Vu_f",
        "colab_type": "code",
        "outputId": "4acac9c1-fcc7-46ab-e37d-3691126821a4",
        "colab": {
          "base_uri": "https://localhost:8080/",
          "height": 35
        }
      },
      "source": [
        "%cd gdrive/My Drive/Part_II_Dissertation/video-super-resolution"
      ],
      "execution_count": 2,
      "outputs": [
        {
          "output_type": "stream",
          "text": [
            "/content/gdrive/My Drive/Part_II_Dissertation\n"
          ],
          "name": "stdout"
        }
      ]
    },
    {
      "cell_type": "code",
      "metadata": {
        "id": "dnmjV5_mCeho",
        "colab_type": "code",
        "colab": {
          "base_uri": "https://localhost:8080/",
          "height": 35
        },
        "outputId": "70aa0aad-25c8-4617-fad7-e4263dd45e7c"
      },
      "source": [
        "!git pull"
      ],
      "execution_count": 25,
      "outputs": [
        {
          "output_type": "stream",
          "text": [
            "Already up to date.\n"
          ],
          "name": "stdout"
        }
      ]
    },
    {
      "cell_type": "code",
      "metadata": {
        "id": "8lKop7sdI1Er",
        "colab_type": "code",
        "colab": {}
      },
      "source": [
        "!sh ./data/load_data.sh"
      ],
      "execution_count": 0,
      "outputs": []
    },
    {
      "cell_type": "code",
      "metadata": {
        "id": "2atWQeCFW4e-",
        "colab_type": "code",
        "outputId": "80418e9e-d394-49c2-bb0c-83e23a93c792",
        "colab": {
          "base_uri": "https://localhost:8080/",
          "height": 555
        }
      },
      "source": [
        "!python src/train.py --epochs 100 --ckpt_epochs 1"
      ],
      "execution_count": 15,
      "outputs": [
        {
          "output_type": "stream",
          "text": [
            "Building datasets\n",
            "Training model from scratch\n",
            "50/50 [==============================] - 133s 3s/batch\n",
            "Training epoch complete, calculating validation loss...\n",
            "Train loss: 0.109010011    Validation loss:  0.0292267203\n",
            "./checkpoints/fsrcnn_x2_240p_1.h5 saved.\n",
            "\n",
            "50/50 [==============================] - 124s 2s/batch\n",
            "Training epoch complete, calculating validation loss...\n",
            "Train loss: 0.0221153833    Validation loss:  0.0165554695\n",
            "./checkpoints/fsrcnn_x2_240p_2.h5 saved.\n",
            "\n",
            " 3/50 [>.............................] - ETA: 1:54Traceback (most recent call last):\n",
            "  File \"src/train.py\", line 156, in <module>\n",
            "    main()\n",
            "  File \"src/train.py\", line 152, in main\n",
            "    train(model, train_dataset, val_dataset, stopping_criterion, 1e-3, ckpt_args, div2k.get_num_train_batches())\n",
            "  File \"/tensorflow-2.1.0/python3.6/tensorflow_core/python/eager/def_function.py\", line 555, in __call__\n",
            "    return self._python_function(*args, **kwds)\n",
            "  File \"src/train.py\", line 35, in train\n",
            "    for lr_batch, hr_batch in train_dataset:\n",
            "  File \"/tensorflow-2.1.0/python3.6/tensorflow_core/python/data/ops/iterator_ops.py\", line 630, in __next__\n",
            "    return self.next()\n",
            "  File \"/tensorflow-2.1.0/python3.6/tensorflow_core/python/data/ops/iterator_ops.py\", line 674, in next\n",
            "    return self._next_internal()\n",
            "  File \"/tensorflow-2.1.0/python3.6/tensorflow_core/python/data/ops/iterator_ops.py\", line 659, in _next_internal\n",
            "    output_shapes=self._flat_output_shapes)\n",
            "  File \"/tensorflow-2.1.0/python3.6/tensorflow_core/python/ops/gen_dataset_ops.py\", line 2469, in iterator_get_next_sync\n",
            "    \"output_shapes\", output_shapes)\n",
            "KeyboardInterrupt\n"
          ],
          "name": "stdout"
        }
      ]
    },
    {
      "cell_type": "code",
      "metadata": {
        "id": "jML4_PisB-A3",
        "colab_type": "code",
        "colab": {
          "base_uri": "https://localhost:8080/",
          "height": 69
        },
        "outputId": "b30518db-d73f-44f3-8432-cee206e07005"
      },
      "source": [
        "!git diff data/load_data.sh"
      ],
      "execution_count": 22,
      "outputs": [
        {
          "output_type": "stream",
          "text": [
            "\u001b[1mdiff --git a/data/load_data.sh b/data/load_data.sh\u001b[m\n",
            "\u001b[1mold mode 100755\u001b[m\n",
            "\u001b[1mnew mode 100644\u001b[m\n"
          ],
          "name": "stdout"
        }
      ]
    }
  ]
}