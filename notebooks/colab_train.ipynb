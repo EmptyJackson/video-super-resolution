{
  "nbformat": 4,
  "nbformat_minor": 0,
  "metadata": {
    "colab": {
      "name": "colab_train.ipynb",
      "provenance": [],
      "authorship_tag": "ABX9TyMbBUyP0PUjoGntXGM8e4BI"
    },
    "kernelspec": {
      "name": "python3",
      "display_name": "Python 3"
    },
    "accelerator": "GPU"
  },
  "cells": [
    {
      "cell_type": "markdown",
      "metadata": {
        "id": "vt0dDi_zC_LZ",
        "colab_type": "text"
      },
      "source": [
        "# Model training with Google Colab"
      ]
    },
    {
      "cell_type": "markdown",
      "metadata": {
        "id": "GMc1gcWUHSvx",
        "colab_type": "text"
      },
      "source": [
        "Select GPU hardware acceleration (TPU not supported by TensorFlow 2) in Runtime > Change runtime type"
      ]
    },
    {
      "cell_type": "code",
      "metadata": {
        "id": "XF3Ptd9LVYfs",
        "colab_type": "code",
        "colab": {}
      },
      "source": [
        "%tensorflow_version 2.x\n",
        "\n",
        "from google.colab import drive\n",
        "drive.mount('/content/gdrive')"
      ],
      "execution_count": 0,
      "outputs": []
    },
    {
      "cell_type": "markdown",
      "metadata": {
        "id": "x8pr2GkAwfDp",
        "colab_type": "text"
      },
      "source": [
        "Paste into browser console to maintain Colab connection"
      ]
    },
    {
      "cell_type": "markdown",
      "metadata": {
        "id": "NuY3JIC8wuCs",
        "colab_type": "text"
      },
      "source": [
        "```\n",
        "function ClickConnect(){\n",
        "console.log(\"Working\"); \n",
        "document.querySelector(\"colab-toolbar-button#connect\").click() \n",
        "}\n",
        "setInterval(ClickConnect,60000)\n",
        "```"
      ]
    },
    {
      "cell_type": "markdown",
      "metadata": {
        "id": "olvfgMPL-6is",
        "colab_type": "text"
      },
      "source": [
        "## Repository clone and dataset download (first time only)"
      ]
    },
    {
      "cell_type": "code",
      "metadata": {
        "id": "YuKEymQh_McG",
        "colab_type": "code",
        "colab": {}
      },
      "source": [
        "%mkdir gdrive/My Drive/Part_II_Dissertation\n",
        "%cd gdrive/My Drive/Part_II_Dissertation\n",
        "!git clone https://github.com/EmptyJackson/video-super-resolution"
      ],
      "execution_count": 0,
      "outputs": []
    },
    {
      "cell_type": "code",
      "metadata": {
        "id": "8lKop7sdI1Er",
        "colab_type": "code",
        "colab": {}
      },
      "source": [
        "%cd video-super-resolution\n",
        "!sh ./data/load_data.sh"
      ],
      "execution_count": 0,
      "outputs": []
    },
    {
      "cell_type": "markdown",
      "metadata": {
        "id": "-X_SeJoGDiuM",
        "colab_type": "text"
      },
      "source": [
        "## Repository update (subsequent uses)"
      ]
    },
    {
      "cell_type": "code",
      "metadata": {
        "id": "KQ61WIl0Vu_f",
        "colab_type": "code",
        "colab": {}
      },
      "source": [
        "%cd gdrive/My Drive/Part_II_Dissertation/video-super-resolution"
      ],
      "execution_count": 0,
      "outputs": []
    },
    {
      "cell_type": "code",
      "metadata": {
        "id": "dnmjV5_mCeho",
        "colab_type": "code",
        "colab": {}
      },
      "source": [
        "!git pull"
      ],
      "execution_count": 0,
      "outputs": []
    },
    {
      "cell_type": "markdown",
      "metadata": {
        "id": "aclCbUXR_iCc",
        "colab_type": "text"
      },
      "source": [
        "## Training"
      ]
    },
    {
      "cell_type": "code",
      "metadata": {
        "id": "2atWQeCFW4e-",
        "colab_type": "code",
        "colab": {}
      },
      "source": [
        "!python src/train.py --epochs 100 --ckpt_epochs 5"
      ],
      "execution_count": 0,
      "outputs": []
    }
  ]
}