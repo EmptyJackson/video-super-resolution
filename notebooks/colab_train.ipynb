{
  "nbformat": 4,
  "nbformat_minor": 0,
  "metadata": {
    "colab": {
      "name": "colab_train.ipynb",
      "provenance": [],
      "collapsed_sections": [
        "olvfgMPL-6is"
      ],
      "authorship_tag": "ABX9TyP8F+/vTILk7+r0kVpi2+nd"
    },
    "kernelspec": {
      "name": "python3",
      "display_name": "Python 3"
    },
    "accelerator": "GPU"
  },
  "cells": [
    {
      "cell_type": "markdown",
      "metadata": {
        "id": "vt0dDi_zC_LZ",
        "colab_type": "text"
      },
      "source": [
        "# Model training with Google Colab"
      ]
    },
    {
      "cell_type": "markdown",
      "metadata": {
        "id": "GMc1gcWUHSvx",
        "colab_type": "text"
      },
      "source": [
        "Select GPU hardware acceleration (TPU not supported by TensorFlow 2) in Runtime > Change runtime type"
      ]
    },
    {
      "cell_type": "code",
      "metadata": {
        "id": "XF3Ptd9LVYfs",
        "colab_type": "code",
        "outputId": "7a04d61e-7456-443f-f2c5-3b05e4482e10",
        "colab": {
          "base_uri": "https://localhost:8080/",
          "height": 139
        }
      },
      "source": [
        "%tensorflow_version 2.x\n",
        "\n",
        "from google.colab import drive\n",
        "drive.mount('/content/gdrive')"
      ],
      "execution_count": 1,
      "outputs": [
        {
          "output_type": "stream",
          "text": [
            "TensorFlow 2.x selected.\n",
            "Go to this URL in a browser: https://accounts.google.com/o/oauth2/auth?client_id=947318989803-6bn6qk8qdgf4n4g3pfee6491hc0brc4i.apps.googleusercontent.com&redirect_uri=urn%3aietf%3awg%3aoauth%3a2.0%3aoob&response_type=code&scope=email%20https%3a%2f%2fwww.googleapis.com%2fauth%2fdocs.test%20https%3a%2f%2fwww.googleapis.com%2fauth%2fdrive%20https%3a%2f%2fwww.googleapis.com%2fauth%2fdrive.photos.readonly%20https%3a%2f%2fwww.googleapis.com%2fauth%2fpeopleapi.readonly\n",
            "\n",
            "Enter your authorization code:\n",
            "··········\n",
            "Mounted at /content/gdrive\n"
          ],
          "name": "stdout"
        }
      ]
    },
    {
      "cell_type": "markdown",
      "metadata": {
        "id": "x8pr2GkAwfDp",
        "colab_type": "text"
      },
      "source": [
        "Paste into browser console to maintain Colab connection"
      ]
    },
    {
      "cell_type": "markdown",
      "metadata": {
        "id": "NuY3JIC8wuCs",
        "colab_type": "text"
      },
      "source": [
        "```\n",
        "function ClickConnect(){\n",
        "console.log(\"Working\"); \n",
        "document.querySelector(\"colab-toolbar-button#connect\").click() \n",
        "}\n",
        "setInterval(ClickConnect,60000)\n",
        "```"
      ]
    },
    {
      "cell_type": "markdown",
      "metadata": {
        "id": "olvfgMPL-6is",
        "colab_type": "text"
      },
      "source": [
        "## Repository clone and dataset download (first time only)"
      ]
    },
    {
      "cell_type": "code",
      "metadata": {
        "id": "YuKEymQh_McG",
        "colab_type": "code",
        "outputId": "5ad2f0f4-de37-45d8-da25-c4cd04346202",
        "colab": {
          "base_uri": "https://localhost:8080/"
        }
      },
      "source": [
        "%mkdir \"gdrive/My Drive/Part_II_Dissertation\"\n",
        "%cd \"gdrive/My Drive/Part_II_Dissertation\"\n",
        "!git clone https://github.com/EmptyJackson/video-super-resolution"
      ],
      "execution_count": 0,
      "outputs": [
        {
          "output_type": "stream",
          "text": [
            "mkdir: cannot create directory ‘gdrive/My’: Operation not supported\n",
            "mkdir: cannot create directory ‘Drive/Part_II_Dissertation’: No such file or directory\n",
            "/content/gdrive/My Drive/Part_II_Dissertation\n",
            "fatal: destination path 'video-super-resolution' already exists and is not an empty directory.\n"
          ],
          "name": "stdout"
        }
      ]
    },
    {
      "cell_type": "code",
      "metadata": {
        "id": "8lKop7sdI1Er",
        "colab_type": "code",
        "colab": {}
      },
      "source": [
        "%cd video-super-resolution\n",
        "!sh ./data/load_data.sh"
      ],
      "execution_count": 0,
      "outputs": []
    },
    {
      "cell_type": "markdown",
      "metadata": {
        "id": "-X_SeJoGDiuM",
        "colab_type": "text"
      },
      "source": [
        "## Repository update (subsequent uses)"
      ]
    },
    {
      "cell_type": "code",
      "metadata": {
        "id": "KQ61WIl0Vu_f",
        "colab_type": "code",
        "outputId": "9fdfb851-1988-4ef1-d656-75a70b23dadf",
        "colab": {
          "base_uri": "https://localhost:8080/",
          "height": 34
        }
      },
      "source": [
        "%cd gdrive/My Drive/Part_II_Dissertation/video-super-resolution"
      ],
      "execution_count": 2,
      "outputs": [
        {
          "output_type": "stream",
          "text": [
            "/content/gdrive/My Drive/Part_II_Dissertation/video-super-resolution\n"
          ],
          "name": "stdout"
        }
      ]
    },
    {
      "cell_type": "code",
      "metadata": {
        "id": "dnmjV5_mCeho",
        "colab_type": "code",
        "outputId": "9aa5cefe-4d2f-4981-d63a-ab6d9a379b7d",
        "colab": {
          "base_uri": "https://localhost:8080/",
          "height": 221
        }
      },
      "source": [
        "!git pull"
      ],
      "execution_count": 7,
      "outputs": [
        {
          "output_type": "stream",
          "text": [
            "remote: Enumerating objects: 11, done.\u001b[K\n",
            "remote: Counting objects:   9% (1/11)\u001b[K\rremote: Counting objects:  18% (2/11)\u001b[K\rremote: Counting objects:  27% (3/11)\u001b[K\rremote: Counting objects:  36% (4/11)\u001b[K\rremote: Counting objects:  45% (5/11)\u001b[K\rremote: Counting objects:  54% (6/11)\u001b[K\rremote: Counting objects:  63% (7/11)\u001b[K\rremote: Counting objects:  72% (8/11)\u001b[K\rremote: Counting objects:  81% (9/11)\u001b[K\rremote: Counting objects:  90% (10/11)\u001b[K\rremote: Counting objects: 100% (11/11)\u001b[K\rremote: Counting objects: 100% (11/11), done.\u001b[K\n",
            "remote: Compressing objects: 100% (1/1)\u001b[K\rremote: Compressing objects: 100% (1/1), done.\u001b[K\n",
            "remote: Total 6 (delta 5), reused 6 (delta 5), pack-reused 0\u001b[K\n",
            "Unpacking objects: 100% (6/6), done.\n",
            "From https://github.com/EmptyJackson/video-super-resolution\n",
            "   e707a29..64877bf  master     -> origin/master\n",
            "Updating e707a29..64877bf\n",
            "Fast-forward\n",
            " src/models/model_io.py | 2 \u001b[32m+\u001b[m\u001b[31m-\u001b[m\n",
            " src/upscale_image.py   | 1 \u001b[31m-\u001b[m\n",
            " 2 files changed, 1 insertion(+), 2 deletions(-)\n"
          ],
          "name": "stdout"
        }
      ]
    },
    {
      "cell_type": "markdown",
      "metadata": {
        "id": "aclCbUXR_iCc",
        "colab_type": "text"
      },
      "source": [
        "## Training"
      ]
    },
    {
      "cell_type": "code",
      "metadata": {
        "id": "2atWQeCFW4e-",
        "colab_type": "code",
        "outputId": "e3e10eb8-71e2-4f22-eafa-87e62a20a67b",
        "colab": {
          "base_uri": "https://localhost:8080/",
          "height": 1000
        }
      },
      "source": [
        "\"\"\"\n",
        "  EDSR    1e-4\n",
        "  FSRCNN  1e-3 (conv) 1e-4 (T-conv)\n",
        "\"\"\"\n",
        "!python src/train.py --epochs 75 --ckpt_epochs 5 --rebuild_freq 15 --scale 4 --learn_rate 1e-4 --model edsr "
      ],
      "execution_count": 0,
      "outputs": [
        {
          "output_type": "stream",
          "text": [
            "Initializing new model\n",
            "Building datasets\n",
            "Model arch saved to ./checkpoints/edsr_x4_240p/arch.json\n",
            "46/46 [==============================] - 142s 3s/batch\n",
            "Training epoch complete, calculating validation loss...\n",
            "Train loss: 0.175449252    Validation loss:  0.0304494034\n",
            "46/46 [==============================] - 122s 3s/batch\n",
            "Training epoch complete, calculating validation loss...\n",
            "Train loss: 0.0262937564    Validation loss:  0.0216294136\n",
            "46/46 [==============================] - 111s 2s/batch\n",
            "Training epoch complete, calculating validation loss...\n",
            "Train loss: 0.0218671206    Validation loss:  0.0198950935\n",
            "46/46 [==============================] - 108s 2s/batch\n",
            "Training epoch complete, calculating validation loss...\n",
            "Train loss: 0.020904569    Validation loss:  0.0188017376\n",
            "46/46 [==============================] - 102s 2s/batch\n",
            "Training epoch complete, calculating validation loss...\n",
            "Train loss: 0.020328721    Validation loss:  0.0187312216\n",
            "Model weights saved to ./checkpoints/edsr_x4_240p/5.h5\n",
            "\n",
            "46/46 [==============================] - 99s 2s/batch\n",
            "Training epoch complete, calculating validation loss...\n",
            "Train loss: 0.0200873129    Validation loss:  0.018621888\n",
            "46/46 [==============================] - 100s 2s/batch\n",
            "Training epoch complete, calculating validation loss...\n",
            "Train loss: 0.0201146    Validation loss:  0.0183713529\n",
            "46/46 [==============================] - 98s 2s/batch\n",
            "Training epoch complete, calculating validation loss...\n",
            "Train loss: 0.0193140879    Validation loss:  0.0174760222\n",
            "46/46 [==============================] - 99s 2s/batch\n",
            "Training epoch complete, calculating validation loss...\n",
            "Train loss: 0.0187791642    Validation loss:  0.0171900094\n",
            "46/46 [==============================] - 98s 2s/batch\n",
            "Training epoch complete, calculating validation loss...\n",
            "Train loss: 0.0184698645    Validation loss:  0.0168506596\n",
            "Model weights saved to ./checkpoints/edsr_x4_240p/10.h5\n",
            "\n",
            "46/46 [==============================] - 99s 2s/batch\n",
            "Training epoch complete, calculating validation loss...\n",
            "Train loss: 0.0180397574    Validation loss:  0.0169158261\n",
            "46/46 [==============================] - 101s 2s/batch\n",
            "Training epoch complete, calculating validation loss...\n",
            "Train loss: 0.0176418237    Validation loss:  0.0167987\n",
            "46/46 [==============================] - 100s 2s/batch\n",
            "Training epoch complete, calculating validation loss...\n",
            "Train loss: 0.017359145    Validation loss:  0.015870234\n",
            "46/46 [==============================] - 100s 2s/batch\n",
            "Training epoch complete, calculating validation loss...\n",
            "Train loss: 0.0174450129    Validation loss:  0.0155263366\n",
            "46/46 [==============================] - 99s 2s/batch\n",
            "Training epoch complete, calculating validation loss...\n",
            "Train loss: 0.0171901863    Validation loss:  0.0158570092\n",
            "Model weights saved to ./checkpoints/edsr_x4_240p/15.h5\n",
            "\n",
            "Rebuilding train dataset\n",
            "46/46 [==============================] - 100s 2s/batch\n",
            "Training epoch complete, calculating validation loss...\n",
            "Train loss: 0.0173658226    Validation loss:  0.0153047936\n",
            "46/46 [==============================] - 101s 2s/batch\n",
            "Training epoch complete, calculating validation loss...\n",
            "Train loss: 0.0167455673    Validation loss:  0.0147938589\n",
            "46/46 [==============================] - 102s 2s/batch\n",
            "Training epoch complete, calculating validation loss...\n",
            "Train loss: 0.0172601528    Validation loss:  0.0153458314\n",
            "46/46 [==============================] - 102s 2s/batch\n",
            "Training epoch complete, calculating validation loss...\n",
            "Train loss: 0.0164900608    Validation loss:  0.0151796592\n",
            "46/46 [==============================] - 101s 2s/batch\n",
            "Training epoch complete, calculating validation loss...\n",
            "Train loss: 0.0163267385    Validation loss:  0.0148387151\n",
            "Model weights saved to ./checkpoints/edsr_x4_240p/20.h5\n",
            "\n",
            "46/46 [==============================] - 101s 2s/batch\n",
            "Training epoch complete, calculating validation loss...\n",
            "Train loss: 0.0159823839    Validation loss:  0.0142304311\n",
            "22/46 [=============>................] - ETA: 49s"
          ],
          "name": "stdout"
        }
      ]
    }
  ]
}